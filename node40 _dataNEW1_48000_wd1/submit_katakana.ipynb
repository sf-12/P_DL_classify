{
 "cells": [
  {
   "cell_type": "markdown",
   "metadata": {},
   "source": [
    "# カタカナ15文字を自動識別するモデルの構築\n",
    "# 課題投稿用Notebook\n",
    "* これは課題投稿用ファイルです。\n",
    "* このsubmit_katakana.ipynbファイルを編集し、学習済みモデルなどの必要ファイルを同じフォルダにおき、それをzipしたものを投稿してください。"
   ]
  },
  {
   "cell_type": "code",
   "execution_count": 1,
   "metadata": {},
   "outputs": [
    {
     "name": "stderr",
     "output_type": "stream",
     "text": [
      "C:\\Users\\sf\\Anaconda3\\lib\\site-packages\\h5py\\__init__.py:36: FutureWarning: Conversion of the second argument of issubdtype from `float` to `np.floating` is deprecated. In future, it will be treated as `np.float64 == np.dtype(float).type`.\n",
      "  from ._conv import register_converters as _register_converters\n",
      "Using TensorFlow backend.\n"
     ]
    },
    {
     "name": "stdout",
     "output_type": "stream",
     "text": [
      "(3000, 1, 28, 28)\n",
      "mn =  0\n",
      "1.055272949063196 0.998\n",
      "Test loss: 1.055272949063196\n",
      "Test accuracy: 0.998\n"
     ]
    }
   ],
   "source": [
    "import keras\n",
    "from PIL import Image\n",
    "import numpy as np\n",
    "import glob\n",
    "import os,sys\n",
    "import util\n",
    "from layers import TwoLayerNet\n",
    "import pandas as pd\n",
    "import matplotlib.pyplot as plt\n",
    "from CNN import SimpleConvNet\n",
    "from common.optimizer import RMSProp\n",
    "\n",
    "def makedataset():\n",
    "    \"\"\"\n",
    "    データセットをつくる関数です。\n",
    "    自由に編集してください。\n",
    "    \"\"\"\n",
    "    \n",
    "    # 次の行は変更しないこと\n",
    "    test_data= util.loaddata()\n",
    "    \n",
    "    # 以下は自由に編集しても構いません\n",
    "    # 正規化\n",
    "    test_data = (test_data - test_data.min()) / test_data.max()\n",
    "    test_data = test_data.astype('float32')\n",
    "    #test_data = test_data.reshape(-1,784)\n",
    "    print(test_data.shape)\n",
    "    # 必要な前処理をここに記述してください  \n",
    "\n",
    "    return test_data\n",
    "\n",
    "\n",
    "def func_predict(test_data, test_label):\n",
    "    \"\"\"\n",
    "    予測する関数\n",
    "    data : 画像データ\n",
    "    return loss, accuracy\n",
    "    引数とreturn以外は、自由に編集してください    \n",
    "    \"\"\"\n",
    "    \n",
    "    # ここを自由に編集してください\n",
    "    # 以下はTensoFlowを用いた場合の例\n",
    "    #model = keras.models.load_model(\"katakana_model\") #学習済みモデルを読む\n",
    "    #model.predict(test_data, verbose=0)\n",
    "    #loss, accuracy = model.evaluate(test_data, test_label, verbose=0)\n",
    "    \n",
    "    #tnet = TwoLayerNet(input_size=784, hidden_size=50, output_size=15)\n",
    "    tnet = SimpleConvNet(input_dim=(1, 28, 28), \n",
    "                                        conv_param={'filter_num':30, 'filter_size':5, 'pad':0, 'stride':1},\n",
    "                                        hidden_size=50, output_size=15, weight_init_std=0.01)\n",
    "    tnet.load_params()\n",
    "    tnet.make_layers()\n",
    "    #lossArr = []\n",
    "    #accuracyArr = []\n",
    "    #for test_datas in range(test_data.shape[0]):\n",
    "    #    lossArr.append(tnet.loss(test_data, test_label))\n",
    "    #    accuracyArr.append(tnet.accuracy(test_data, test_label))\n",
    "    #    loss = np.mean(lossArr)\n",
    "    #    accuracy = np.mean(accuracyArr)\n",
    "    \n",
    "    loss = tnet.loss(test_data, test_label)\n",
    "    accuracy = tnet.accuracy(test_data, test_label)\n",
    "    \n",
    "    return loss, accuracy # 編集不可\n",
    "\n",
    "\n",
    "def main():\n",
    "    \"\"\"\n",
    "    編集しないでください。\n",
    "    \"\"\"\n",
    "    # テスト用データをつくる\n",
    "    test_data = makedataset()\n",
    "\n",
    "    # 予測し精度を算出する\n",
    "    util.accuracy(func_predict, test_data)\n",
    "    \n",
    "    return\n",
    "\n",
    "\n",
    "if __name__==\"__main__\":\n",
    "    main()"
   ]
  },
  {
   "cell_type": "code",
   "execution_count": null,
   "metadata": {},
   "outputs": [],
   "source": []
  },
  {
   "cell_type": "code",
   "execution_count": null,
   "metadata": {},
   "outputs": [],
   "source": []
  }
 ],
 "metadata": {
  "kernelspec": {
   "display_name": "Python 3",
   "language": "python",
   "name": "python3"
  },
  "language_info": {
   "codemirror_mode": {
    "name": "ipython",
    "version": 3
   },
   "file_extension": ".py",
   "mimetype": "text/x-python",
   "name": "python",
   "nbconvert_exporter": "python",
   "pygments_lexer": "ipython3",
   "version": "3.6.4"
  }
 },
 "nbformat": 4,
 "nbformat_minor": 2
}
